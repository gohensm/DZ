{
 "cells": [
  {
   "cell_type": "code",
   "execution_count": null,
   "metadata": {},
   "outputs": [],
   "source": [
    "city_visited = ['Львів', 'Одесса', 'Кирилівка', 'Чернівці']\n",
    "city_to_go = input('В яке місто бажаєто поїхати ?')\n",
    "\n",
    "for city_visited in city_to_go:\n",
    "    if city_to_go == city_visited:\n",
    "        print('Ви вже бували в такому місті.')\n",
    "        break\n",
    "else:\n",
    "    print('Це буде ваша перша подорож до цього міста.')"
   ]
  }
 ],
 "metadata": {
  "language_info": {
   "name": "python"
  },
  "orig_nbformat": 4
 },
 "nbformat": 4,
 "nbformat_minor": 2
}
