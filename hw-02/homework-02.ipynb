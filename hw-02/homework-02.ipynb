{
 "cells": [
  {
   "cell_type": "code",
   "execution_count": null,
   "metadata": {},
   "outputs": [],
   "source": [
    "stroka = input('Введіть строку:')\n",
    "symbol = input('Введіть сивол:')\n",
    "count = 0\n",
    "for i in range(len(stroka)):\n",
    "    if symbol == stroka[i]:\n",
    "        count += 1\n",
    "print('Кількість входженних в строку символу -', count)"
   ]
  }
 ],
 "metadata": {
  "language_info": {
   "name": "python"
  },
  "orig_nbformat": 4
 },
 "nbformat": 4,
 "nbformat_minor": 2
}
