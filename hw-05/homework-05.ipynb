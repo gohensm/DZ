{
 "cells": [
  {
   "cell_type": "code",
   "execution_count": 2,
   "metadata": {},
   "outputs": [
    {
     "name": "stdout",
     "output_type": "stream",
     "text": [
      "Буква \" e \" входить в имья 3 разів.\n"
     ]
    }
   ],
   "source": [
    "last_name = input('Введіть імя:')\n",
    "last_name = last_name.lower()\n",
    "char = list()\n",
    "char_count = list()\n",
    "for name in last_name:\n",
    "  char.append(name)\n",
    "  char_count.append(last_name.count(name))\n",
    "  last_name = last_name.replace(name,'')\n",
    "for name in range(len(char_count)):\n",
    "  if char_count[name] == max(char_count):\n",
    "    print ('Буква \"', char[name], '\" входить в імья', char_count[name], 'разів.')"
   ]
  },
  {
   "cell_type": "code",
   "execution_count": 1,
   "metadata": {},
   "outputs": [
    {
     "name": "stdout",
     "output_type": "stream",
     "text": [
      "abobaa\n"
     ]
    }
   ],
   "source": [
    "string = input('Введіть строку:')\n",
    "delete_numbers = '0123456789'\n",
    "for numbers in delete_numbers:\n",
    "    string = string.replace(numbers,'')\n",
    "print(string)\n",
    "     "
   ]
  },
  {
   "cell_type": "code",
   "execution_count": null,
   "metadata": {},
   "outputs": [],
   "source": [
    "phones = [\n",
    "    '+380679999999', \n",
    "    '+380669999999',\n",
    "    '+380668888888', \n",
    "    '+380507777777',\n",
    "    '+380681151010',\n",
    "    '+380683421010'\n",
    "]\n",
    "\n",
    "correct_phone_len = 13\n",
    "correct_country_code = '+38'\n",
    "correct_operator_codes = ['067', '068', '097', '044', '050']\n",
    "\n",
    "\n",
    "for phone in phones:\n",
    "    if (len(phone) == correct_phone_len) and (phone[0:3] == correct_country_code) and (phone[3:6] in correct_operator_codes):\n",
    "        print(phone)\n",
    "    else:\n",
    "        print('error: ', phone)"
   ]
  }
 ],
 "metadata": {
  "kernelspec": {
   "display_name": "Python 3.10.4 64-bit",
   "language": "python",
   "name": "python3"
  },
  "language_info": {
   "codemirror_mode": {
    "name": "ipython",
    "version": 3
   },
   "file_extension": ".py",
   "mimetype": "text/x-python",
   "name": "python",
   "nbconvert_exporter": "python",
   "pygments_lexer": "ipython3",
   "version": "3.10.4"
  },
  "orig_nbformat": 4,
  "vscode": {
   "interpreter": {
    "hash": "355274ba067061ded1ac72ae2059c8013e0df355f8cf683ca78349affa8c3978"
   }
  }
 },
 "nbformat": 4,
 "nbformat_minor": 2
}
