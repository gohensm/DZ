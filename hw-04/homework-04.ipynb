{
 "cells": [
  {
   "cell_type": "code",
   "execution_count": 12,
   "metadata": {},
   "outputs": [
    {
     "name": "stdout",
     "output_type": "stream",
     "text": [
      "['Євразія', 'Австралія', 'Антарктида', 'Африка', 'Південна Америка', 'Північна Америка']\n"
     ]
    }
   ],
   "source": [
    "west_continents = ['Північна Америка', 'Південна Америка', 'Антарктида']\n",
    "west_continents.append('Африка')\n",
    "west_continents.append('Австралія')\n",
    "west_continents.append('Євразія')\n",
    "west_continents.sort()\n",
    "print(west_continents)"
   ]
  },
  {
   "cell_type": "code",
   "execution_count": 1,
   "metadata": {},
   "outputs": [
    {
     "name": "stdout",
     "output_type": "stream",
     "text": [
      "Такого товару немає.\n"
     ]
    }
   ],
   "source": [
    "goods = [\n",
    "\n",
    "    ['phone', 'samsung', 8000],\n",
    "\n",
    "    ['tablet', 'Xiaomi', 17000],\n",
    "\n",
    "    ['laptop', 'acer', 30000],\n",
    "\n",
    "    ['iphone', 'Apple', 23000],\n",
    "]\n",
    "tipe_goods = input('Введіть тип товару:')\n",
    "if tipe_goods == goods:\n",
    "    if tipe_goods == goods[0]:\n",
    "        print(goods[0])\n",
    "    if tipe_goods == goods[1]:\n",
    "        print(goods[1])\n",
    "    if tipe_goods == goods[2]:\n",
    "        print(goods[2])\n",
    "    if tipe_goods == goods[3]:\n",
    "        print(goods[3])\n",
    "else:\n",
    "    print('Такого товару немає.')"
   ]
  },
  {
   "cell_type": "code",
   "execution_count": 8,
   "metadata": {},
   "outputs": [
    {
     "name": "stdout",
     "output_type": "stream",
     "text": [
      "['iphone', 'Apple', 23000]\n",
      "['laptop', 'acer', 30000]\n",
      "Такого товару немає.\n"
     ]
    }
   ],
   "source": [
    "goods = [\n",
    "\n",
    "    ['phone', 'samsung', 8000],\n",
    "\n",
    "    ['tablet', 'Xiaomi', 17000],\n",
    "\n",
    "    ['laptop', 'acer', 30000],\n",
    "\n",
    "    ['iphone', 'Apple', 23000],\n",
    "]\n",
    "tipe_goods = input('Введіть тип товару:')\n",
    "if tipe_goods == goods[0][0] or tipe_goods == goods[0][1]:\n",
    "    print(goods[0])\n",
    "\n",
    "if tipe_goods == goods[1][0] or tipe_goods == goods[1][1]:\n",
    "    print(goods[1])\n",
    "\n",
    "if tipe_goods == goods[2][0] or tipe_goods == goods[2][1]:\n",
    "    print(goods[2])\n",
    "   \n",
    "if tipe_goods == goods[3][0] or tipe_goods == goods[3][1]:\n",
    "    print(goods[3])\n",
    "\n",
    "else:\n",
    "    print('Такого товару немає.')  \n",
    "\n",
    "value_goods = int(input('Введіть ціну товару'))\n",
    "\n",
    "if value_goods == goods[0][2]:\n",
    "    print(goods[0])\n",
    "\n",
    "if value_goods == goods[1][2]:\n",
    "    print(goods[1])\n",
    "\n",
    "if value_goods == goods[2][2]:\n",
    "    print(goods[2])\n",
    "\n",
    "if value_goods == goods[3][2]:\n",
    "    print(goods[3])\n",
    "\n",
    "else:\n",
    "    print('Такого товару немає.')\n"
   ]
  }
 ],
 "metadata": {
  "interpreter": {
   "hash": "355274ba067061ded1ac72ae2059c8013e0df355f8cf683ca78349affa8c3978"
  },
  "kernelspec": {
   "display_name": "Python 3.10.4 64-bit",
   "language": "python",
   "name": "python3"
  },
  "language_info": {
   "codemirror_mode": {
    "name": "ipython",
    "version": 3
   },
   "file_extension": ".py",
   "mimetype": "text/x-python",
   "name": "python",
   "nbconvert_exporter": "python",
   "pygments_lexer": "ipython3",
   "version": "3.10.4"
  },
  "orig_nbformat": 4
 },
 "nbformat": 4,
 "nbformat_minor": 2
}
