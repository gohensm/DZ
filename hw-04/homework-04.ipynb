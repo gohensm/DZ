{
 "cells": [
  {
   "cell_type": "code",
   "execution_count": 12,
   "metadata": {},
   "outputs": [
    {
     "name": "stdout",
     "output_type": "stream",
     "text": [
      "['Євразія', 'Австралія', 'Антарктида', 'Африка', 'Південна Америка', 'Північна Америка']\n"
     ]
    }
   ],
   "source": [
    "west_continents = ['Північна Америка', 'Південна Америка', 'Антарктида']\n",
    "west_continents.append('Африка')\n",
    "west_continents.append('Австралія')\n",
    "west_continents.append('Євразія')\n",
    "west_continents.sort()\n",
    "print(west_continents)"
   ]
  }
 ],
 "metadata": {
  "interpreter": {
   "hash": "355274ba067061ded1ac72ae2059c8013e0df355f8cf683ca78349affa8c3978"
  },
  "kernelspec": {
   "display_name": "Python 3.10.4 64-bit",
   "language": "python",
   "name": "python3"
  },
  "language_info": {
   "codemirror_mode": {
    "name": "ipython",
    "version": 3
   },
   "file_extension": ".py",
   "mimetype": "text/x-python",
   "name": "python",
   "nbconvert_exporter": "python",
   "pygments_lexer": "ipython3",
   "version": "3.10.4"
  },
  "orig_nbformat": 4
 },
 "nbformat": 4,
 "nbformat_minor": 2
}
