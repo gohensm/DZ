{
 "cells": [
  {
   "cell_type": "code",
   "execution_count": 2,
   "metadata": {},
   "outputs": [],
   "source": [
    "def check_phone(phone_numbers):\n",
    "   if len(phone_numbers) == 10: \n",
    "      return True\n",
    "   else: \n",
    "      return False\n",
    "\n",
    "def mobile_operator(phone_numbers):\n",
    "   Kievstar = ('068', '067', '097')\n",
    "   Vodafone = ('050', '066', '099')\n",
    "   Lifesel = ('063', '093')\n",
    "   code = phone_numbers[0:3]\n",
    "   if code in Kievstar:\n",
    "     return 'Kievstar'\n",
    "   elif code in Vodafone:\n",
    "     return 'Vodafone'\n",
    "   elif code in Lifesel:\n",
    "     return 'Lifesel'\n",
    "   else:\n",
    "      return 'None'\n",
    "\n",
    "fh = open(r'D:\\GoIteensPython\\hw-10\\phone_numbers') \n",
    "lines = fh.readlines()\n",
    "\n",
    "Kievstar_file = open('kievstar_phones.txt','a')\n",
    "Vodafone_file = open('vodafone_phones.txt','a')\n",
    "Lifecell_file = open('lifecell_phones.txt','a')\n",
    "\n",
    "\n",
    "for i in lines:\n",
    "   if check_phone(i[:-1]):\n",
    "      if mobile_operator(i)=='Kievstar':\n",
    "         Kievstar_file.write(i)\n",
    "      elif mobile_operator(i)=='Vodafone':\n",
    "         Vodafone_file.write(i)\n",
    "      elif mobile_operator(i)=='Lifecel':\n",
    "         Lifecell_file.write(i)\n",
    "      else:\n",
    "         print ('номер:', i[:-1], 'не є номер')\n",
    "   else:\n",
    "      print ('номер:', i[:-1], 'неправильний')\n",
    "\n",
    "\n",
    "fh.close()\n",
    "Kievstar_file.close()\n",
    "Vodafone_file.close()\n",
    "Lifecell_file.close()"
   ]
  }
 ],
 "metadata": {
  "kernelspec": {
   "display_name": "Python 3.10.4 64-bit",
   "language": "python",
   "name": "python3"
  },
  "language_info": {
   "codemirror_mode": {
    "name": "ipython",
    "version": 3
   },
   "file_extension": ".py",
   "mimetype": "text/x-python",
   "name": "python",
   "nbconvert_exporter": "python",
   "pygments_lexer": "ipython3",
   "version": "3.10.4"
  },
  "orig_nbformat": 4,
  "vscode": {
   "interpreter": {
    "hash": "355274ba067061ded1ac72ae2059c8013e0df355f8cf683ca78349affa8c3978"
   }
  }
 },
 "nbformat": 4,
 "nbformat_minor": 2
}
