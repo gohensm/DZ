{
 "cells": [
  {
   "cell_type": "code",
   "execution_count": 1,
   "metadata": {},
   "outputs": [
    {
     "name": "stdout",
     "output_type": "stream",
     "text": [
      "abo\n",
      "abbb\n",
      "The largest world is: abbb\n"
     ]
    }
   ],
   "source": [
    "text = input('Введіть текст:')\n",
    "text = text.rstrip()\n",
    "\n",
    "is_last = False\n",
    "space_position_prev = 0\n",
    "word_max = ''\n",
    "\n",
    "while not is_last:\n",
    "    position_current = text.find(' ', space_position_prev)\n",
    "    if position_current == -1:\n",
    "        print('Найбільше слово:', word_max)\n",
    "        break\n",
    "    else:\n",
    "        word = text[space_position_prev : position_current]\n",
    "        print(word)\n",
    "        space_position_prev = position_current + 1 \n",
    "        if len(word) > len(word_max):\n",
    "            word_max = word"
   ]
  }
 ],
 "metadata": {
  "kernelspec": {
   "display_name": "Python 3.10.4 64-bit",
   "language": "python",
   "name": "python3"
  },
  "language_info": {
   "codemirror_mode": {
    "name": "ipython",
    "version": 3
   },
   "file_extension": ".py",
   "mimetype": "text/x-python",
   "name": "python",
   "nbconvert_exporter": "python",
   "pygments_lexer": "ipython3",
   "version": "3.10.4"
  },
  "orig_nbformat": 4,
  "vscode": {
   "interpreter": {
    "hash": "355274ba067061ded1ac72ae2059c8013e0df355f8cf683ca78349affa8c3978"
   }
  }
 },
 "nbformat": 4,
 "nbformat_minor": 2
}
